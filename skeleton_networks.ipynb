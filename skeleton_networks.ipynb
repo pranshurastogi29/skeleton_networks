{
 "cells": [
  {
   "cell_type": "code",
   "execution_count": null,
   "metadata": {},
   "outputs": [],
   "source": [
    "import numpy as np\n",
    "import math\n",
    "from keras import optimizers\n",
    "from SBU_utils import *\n",
    "from model import *"
   ]
  },
  {
   "cell_type": "code",
   "execution_count": null,
   "metadata": {},
   "outputs": [],
   "source": [
    "os.mkdir('SBU')\n",
    "SBU_dir ='/home/SBU/'"
   ]
  },
  {
   "cell_type": "code",
   "execution_count": null,
   "metadata": {},
   "outputs": [],
   "source": [
    "link = []\n",
    "link.append('http://vision.cs.stonybrook.edu/~kiwon/Datasets/SBU_Kinect_Interactions/s01s02.zip')\n",
    "link.append('http://vision.cs.stonybrook.edu/~kiwon/Datasets/SBU_Kinect_Interactions/s01s03.zip')\n",
    "link.append('http://vision.cs.stonybrook.edu/~kiwon/Datasets/SBU_Kinect_Interactions/s01s07.zip')\n",
    "link.append('http://vision.cs.stonybrook.edu/~kiwon/Datasets/SBU_Kinect_Interactions/s02s01.zip')\n",
    "link.append('http://vision.cs.stonybrook.edu/~kiwon/Datasets/SBU_Kinect_Interactions/s02s03.zip')\n",
    "link.append('http://vision.cs.stonybrook.edu/~kiwon/Datasets/SBU_Kinect_Interactions/s02s06.zip')\n",
    "link.append('http://vision.cs.stonybrook.edu/~kiwon/Datasets/SBU_Kinect_Interactions/s02s07.zip')\n",
    "link.append('http://vision.cs.stonybrook.edu/~kiwon/Datasets/SBU_Kinect_Interactions/s03s02.zip')\n",
    "link.append('http://vision.cs.stonybrook.edu/~kiwon/Datasets/SBU_Kinect_Interactions/s03s04.zip')\n",
    "link.append('http://vision.cs.stonybrook.edu/~kiwon/Datasets/SBU_Kinect_Interactions/s03s05.zip')\n",
    "link.append('http://vision.cs.stonybrook.edu/~kiwon/Datasets/SBU_Kinect_Interactions/s03s06.zip')\n",
    "link.append('http://vision.cs.stonybrook.edu/~kiwon/Datasets/SBU_Kinect_Interactions/s04s02.zip')\n",
    "link.append('http://vision.cs.stonybrook.edu/~kiwon/Datasets/SBU_Kinect_Interactions/s04s03.zip')\n",
    "link.append('http://vision.cs.stonybrook.edu/~kiwon/Datasets/SBU_Kinect_Interactions/s04s06.zip')\n",
    "link.append('http://vision.cs.stonybrook.edu/~kiwon/Datasets/SBU_Kinect_Interactions/s05s02.zip')\n",
    "link.append('http://vision.cs.stonybrook.edu/~kiwon/Datasets/SBU_Kinect_Interactions/s05s03.zip')\n",
    "link.append('http://vision.cs.stonybrook.edu/~kiwon/Datasets/SBU_Kinect_Interactions/s07s02.zip')\n",
    "link.append('http://vision.cs.stonybrook.edu/~kiwon/Datasets/SBU_Kinect_Interactions/s06s03.zip')\n",
    "link.append('http://vision.cs.stonybrook.edu/~kiwon/Datasets/SBU_Kinect_Interactions/s06s04.zip')\n",
    "link.append('http://vision.cs.stonybrook.edu/~kiwon/Datasets/SBU_Kinect_Interactions/s07s01.zip')\n",
    "link.append('http://vision.cs.stonybrook.edu/~kiwon/Datasets/SBU_Kinect_Interactions/s07s03.zip')\n",
    "\n",
    "import wget\n",
    "for i in link:\n",
    "    temp_path = SBU_dir + i.split('/')[-1]\n",
    "    url = i\n",
    "    print(url)\n",
    "    print(temp_path)\n",
    "    wget.download(url=url, out=temp_path)"
   ]
  },
  {
   "cell_type": "code",
   "execution_count": null,
   "metadata": {},
   "outputs": [],
   "source": [
    "!unzip '/content/SBU/s07s01.zip'\n",
    "!unzip '/content/SBU/s07s03.zip'\n",
    "!unzip '/content/SBU/s06s04.zip'\n",
    "!unzip '/content/SBU/s06s03.zip'\n",
    "!unzip '/content/SBU/s06s02.zip'\n",
    "!unzip '/content/SBU/s05s03.zip'\n",
    "!unzip '/content/SBU/s05s02.zip'\n",
    "!unzip '/content/SBU/s04s02.zip'\n",
    "!unzip '/content/SBU/s04s03.zip'\n",
    "!unzip '/content/SBU/s04s06.zip'\n",
    "!unzip '/content/SBU/s03s02.zip'\n",
    "!unzip '/content/SBU/s03s04.zip'\n",
    "!unzip '/content/SBU/s03s05.zip'\n",
    "!unzip '/content/SBU/s03s06.zip'\n",
    "!unzip '/content/SBU/s02s01.zip'\n",
    "!unzip '/content/SBU/s02s03.zip'\n",
    "!unzip '/content/SBU/s02s06.zip'\n",
    "!unzip '/content/SBU/s02s07.zip'\n",
    "!unzip '/content/SBU/s01s03.zip'\n",
    "!unzip '/content/SBU/s01s07.zip'\n",
    "!unzip '/content/SBU/s01s02.zip'"
   ]
  },
  {
   "cell_type": "code",
   "execution_count": null,
   "metadata": {},
   "outputs": [],
   "source": [
    "dataset = SBU_dataset('/home')\n",
    "train, test = dataset.get_data(3)"
   ]
  },
  {
   "cell_type": "code",
   "execution_count": null,
   "metadata": {},
   "outputs": [],
   "source": [
    "os.environ[\"CUDA_DEVICE_ORDER\"]=\"PCI_BUS_ID\"   \n",
    "os.environ[\"CUDA_VISIBLE_DEVICES\"]=\"0\""
   ]
  },
  {
   "cell_type": "code",
   "execution_count": null,
   "metadata": {},
   "outputs": [],
   "source": [
    "lr=0.001\n",
    "adam = optimizers.Adam(lr)\n",
    "model = multi_obj()\n",
    "model.compile(adam, loss='mean_squared_error')\n",
    "model.summary()"
   ]
  },
  {
   "cell_type": "code",
   "execution_count": null,
   "metadata": {},
   "outputs": [],
   "source": [
    "epochs = 400\n",
    "import random\n",
    "for e in range(epochs):\n",
    "    X_0 = []\n",
    "    X_1 = []\n",
    "    X_2 = []\n",
    "    X_3 = []\n",
    "    Y = []\n",
    "\n",
    "    for i in range(1,9):                 # loop 8 classes\n",
    "        for j in range(len(train[i])):   # loop all samples within the same class\n",
    "            \n",
    "            #First person pose\n",
    "            p_0 = np.copy(train[i][j].T[:,:45])\n",
    "            p_0 = p_0.reshape([-1,15,3])\n",
    "            t_0 = p_0.shape[0]           # the number of all frames\n",
    "            if t_0>16:                   # sample the range from crop size of [16,t_0]\n",
    "                ratio = np.random.uniform(1,t_0/16)\n",
    "                l = int(16*ratio)\n",
    "                start = random.sample(range(t_0-l),1)[0]\n",
    "                end = start+l\n",
    "                p_0 = p_0[start:end,:,:]\n",
    "                p_0 = zoom(p_0)\n",
    "            elif t_0<16:\n",
    "                p_0 = zoom(p_0)\n",
    "            \n",
    "            #Calculate the temporal difference\n",
    "            p_0_diff = p_0[1:,:,:]-p_0[:-1,:,:]\n",
    "            p_0_diff = np.concatenate((p_0_diff,np.expand_dims(p_0_diff[-1,:,:],axis=0)))\n",
    "            #p_1_diff = p_1[1:,:,:]-p_1[:-1,:,:]\n",
    "            #p_1_diff = np.concatenate((p_1_diff,np.expand_dims(p_1_diff[-1,:,:],axis=0)))\n",
    "\n",
    "            X_0.append(p_0)\n",
    "            X_1.append(p_0_diff)\n",
    "            #X_2.append(p_1)\n",
    "            #X_3.append(p_1_diff)\n",
    "\n",
    "            label = np.zeros(8)\n",
    "            label[i-1] = 1\n",
    "            Y.append(label)\n",
    "\n",
    "    X_0 = np.stack(X_0)\n",
    "    X_1 = np.stack(X_1)\n",
    "    #X_2 = np.stack(X_2)\n",
    "    #X_3 = np.stack(X_3)\n",
    "    Y = np.stack(Y)    \n",
    "\n",
    "    history = model.fit([X_0,X_1],Y,batch_size=32,epochs=1,verbose=True,shuffle=True)\n",
    "    \n",
    "    if not (e+1)%50:\n",
    "        lr *= 0.8\n",
    "        adam = optimizers.Adam(lr)\n",
    "        model.compile(adam, loss='mean_squared_error')"
   ]
  },
  {
   "cell_type": "code",
   "execution_count": null,
   "metadata": {},
   "outputs": [],
   "source": [
    "X_TEST_0 = []\n",
    "X_TEST_1 = []\n",
    "X_TEST_2 = []\n",
    "X_TEST_3 = []\n",
    "Y_TEST = []\n",
    "\n",
    "for i in range(1,9):\n",
    "    for j in range(len(test[i])):\n",
    "        p_0 = np.copy(test[i][j].T[:,:45])\n",
    "        p_0 = p_0.reshape([-1,15,3])\n",
    "        t_0 = p_0.shape[0]\n",
    "        # if the number of frame is more than 20, crop by scale 0.9, then rescale by interploration again\n",
    "        if t_0>=20: \n",
    "            p_0 = p_0[int(t_0*0.05):int(t_0*0.95),:,:]\n",
    "            p_0 = zoom(p_0)\n",
    "        elif t_0<20:\n",
    "            p_0 = zoom(p_0)\n",
    "        p_0_diff = p_0[1:,:,:]-p_0[:-1,:,:]\n",
    "        p_0_diff = np.concatenate((p_0_diff,np.expand_dims(p_0_diff[-1,:,:],axis=0)))\n",
    "        \n",
    "        X_TEST_0.append(p_0)\n",
    "        X_TEST_1.append(p_0_diff)\n",
    "        \n",
    "        label = np.zeros(8)\n",
    "        label[i-1] = 1\n",
    "        Y_TEST.append(label)\n",
    "\n",
    "X_TEST_0 = np.stack(X_TEST_0)\n",
    "X_TEST_1 = np.stack(X_TEST_1)\n",
    "Y_TEST = np.stack(Y_TEST)\n",
    "\n",
    "Y_pred = model.predict([X_TEST_0,X_TEST_1])\n",
    "\n",
    "print('Predict labels:',np.argmax(Y_pred,axis=1))\n",
    "print('Ground truth labels:',np.argmax(Y_TEST,axis=1))"
   ]
  },
  {
   "cell_type": "code",
   "execution_count": null,
   "metadata": {},
   "outputs": [],
   "source": []
  }
 ],
 "metadata": {
  "kernelspec": {
   "display_name": "Python 3",
   "language": "python",
   "name": "python3"
  },
  "language_info": {
   "codemirror_mode": {
    "name": "ipython",
    "version": 3
   },
   "file_extension": ".py",
   "mimetype": "text/x-python",
   "name": "python",
   "nbconvert_exporter": "python",
   "pygments_lexer": "ipython3",
   "version": "3.6.9"
  }
 },
 "nbformat": 4,
 "nbformat_minor": 4
}
